{
 "cells": [
  {
   "cell_type": "code",
   "execution_count": null,
   "metadata": {},
   "outputs": [],
   "source": [
    "import matplotlib.pyplot as plt\n",
    "import numpy as np\n",
    "%matplotlib inline"
   ]
  },
  {
   "cell_type": "code",
   "execution_count": null,
   "metadata": {
    "tags": []
   },
   "outputs": [],
   "source": [
    "#輸入一元三次方程式的係數\n",
    "def enter1():\n",
    "    print('Input the coefficient of a third-order equation: (format a, b, c, d)')\n",
    "    co = [float(i) for i in input().split(',')]\n",
    "    if len(co) != 4:\n",
    "        raise\n",
    "    return co\n",
    "\n",
    "#輸入任意座標點數\n",
    "def enter2():\n",
    "    print('Input some coordinates:')\n",
    "    co = [float(i) for i in input().split(',')]\n",
    "    if len(co)%2 != 0:\n",
    "        raise\n",
    "    return co\n",
    "\n",
    "#輸入格式錯誤，跳出錯誤訊息，要求重新輸入\n",
    "while True:\n",
    "    try:\n",
    "        coef = enter1()\n",
    "        break\n",
    "    except:\n",
    "        print(\"The entered format has something wrong\")\n",
    "        \n",
    "while True:\n",
    "    try:\n",
    "        coor = enter2()\n",
    "        break\n",
    "    except:\n",
    "        print(\"The entered format has something wrong\")"
   ]
  },
  {
   "cell_type": "code",
   "execution_count": null,
   "metadata": {},
   "outputs": [],
   "source": [
    "def polynomial(co,x):\n",
    "    return co[0]*x**3 + co[1]*x**2 + co[2]*x + co[3]\n",
    "\n",
    "def diff(co,x):\n",
    "    return 3*co[0]*x**2 + 2*co[1]*x + co[2]\n",
    "\n",
    "#判斷給予的座標點是位於線以上、以下亦或是線上\n",
    "x = np.linspace(-40, 40, 4000, endpoint=True)\n",
    "y = [polynomial(coef,i) for i in x]\n",
    "upx,upy,downx,downy,onx,ony = list(),list(),list(),list(),list(),list()\n",
    "\n",
    "for i in range(0,len(coor),2):\n",
    "    if coor[i+1] > polynomial(coef,coor[i]):\n",
    "        upx.append(coor[i])\n",
    "        upy.append(coor[i+1])\n",
    "    elif coor[i+1] < polynomial(coef,coor[i]):\n",
    "        downx.append(coor[i])\n",
    "        downy.append(coor[i+1])\n",
    "    else:\n",
    "        onx.append(coor[i])\n",
    "        ony.append(coor[i+1])\n",
    "\n",
    "#找出區域最大、最小值\n",
    "start = 0\n",
    "end = 10\n",
    "max_iteration = 10001\n",
    "pace = 0.001\n",
    "min1,min2,max1,max2 = 0,0,0,0\n",
    "\n",
    "x1 = start\n",
    "for i in range(max_iteration):\n",
    "    before = x1\n",
    "    x1 = before - pace*diff(coef,before)\n",
    "    if abs(x1-before) < 0.00001 or x1 < 0 or x1 > 10:\n",
    "        min1 = polynomial(coef,before)\n",
    "        break\n",
    "\n",
    "x1=end        \n",
    "for i in range(max_iteration):\n",
    "    before = x1\n",
    "    x1 = before - pace*diff(coef,before)\n",
    "    if abs(x1-before) < 0.00001 or x1 < 0 or x1 > 10:\n",
    "        min2 = polynomial(coef,before)\n",
    "        break        \n",
    "        \n",
    "x1 = start\n",
    "for i in range(max_iteration):\n",
    "    before = x1\n",
    "    x1 = before + pace*diff(coef,before)\n",
    "    if abs(x1-before) < 0.00001 or x1 < 0 or x1 > 10:\n",
    "        max1 = polynomial(coef,before)\n",
    "        break\n",
    "\n",
    "x1=end        \n",
    "for i in range(max_iteration):\n",
    "    before = x1\n",
    "    x1 = before + pace*diff(coef,before)\n",
    "    if abs(x1-before) < 0.00001 or x1 < 0 or x1 > 10:\n",
    "        max2 = polynomial(coef,before)\n",
    "        break \n",
    "\n",
    "if min1 > min2:\n",
    "    min1 = min2\n",
    "if max1 < max2:\n",
    "    max1 = max2"
   ]
  },
  {
   "cell_type": "code",
   "execution_count": null,
   "metadata": {
    "tags": []
   },
   "outputs": [],
   "source": [
    "#將方程式的曲線以紫色列印出，在線以上的以紅色標記，在線以下的以藍色標記，在線上的以綠色標記，並加入圖示及標題\n",
    "plt.plot(x,y,'Indigo')\n",
    "plt.plot(upx,upy,'ro',label='upper')\n",
    "plt.plot(onx,ony,'go',label='on')\n",
    "plt.plot(downx,downy,'bo',label='lower')\n",
    "plt.legend(loc='lower right')\n",
    "plt.title(\"%.2fx^3 + (%.2f)x^2 + (%.2f)x + %.2f\"%(coef[0],coef[1],coef[2],coef[3]))\n",
    "plt.xlabel('x')\n",
    "plt.ylabel('f(x)')\n",
    "print(\"Local min : %.4f\"%(min1))\n",
    "print(\"Local max : %.4f\"%(max1))"
   ]
  },
  {
   "cell_type": "code",
   "execution_count": null,
   "metadata": {},
   "outputs": [],
   "source": []
  }
 ],
 "metadata": {
  "kernelspec": {
   "name": "python3",
   "display_name": "Python 3.7.9 64-bit",
   "metadata": {
    "interpreter": {
     "hash": "18da31f597fec48f49f0c6c9857b5460e182ca09a9da661d2d0e1b3de986e9ca"
    }
   }
  },
  "language_info": {
   "codemirror_mode": {
    "name": "ipython",
    "version": 3
   },
   "file_extension": ".py",
   "mimetype": "text/x-python",
   "name": "python",
   "nbconvert_exporter": "python",
   "pygments_lexer": "ipython3",
   "version": "3.7.9-final"
  }
 },
 "nbformat": 4,
 "nbformat_minor": 4
}