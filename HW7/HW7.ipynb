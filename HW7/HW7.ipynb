{
 "cells": [
  {
   "cell_type": "code",
   "execution_count": 9,
   "metadata": {},
   "outputs": [
    {
     "name": "stdout",
     "output_type": "stream",
     "text": [
      "Epoch 1/5\n",
      "2500/2500 [==============================] - 1s 410us/step - loss: 653352.9375\n",
      "Epoch 2/5\n",
      "2500/2500 [==============================] - 1s 403us/step - loss: 253993.7344\n",
      "Epoch 3/5\n",
      "2500/2500 [==============================] - 1s 403us/step - loss: 205706.4062\n",
      "Epoch 4/5\n",
      "2500/2500 [==============================] - 1s 412us/step - loss: 155862.9062\n",
      "Epoch 5/5\n",
      "2500/2500 [==============================] - 1s 400us/step - loss: 107384.0234\n",
      "WARNING:tensorflow:11 out of the last 11 calls to <function Model.make_predict_function.<locals>.predict_function at 0x00000154F81670D0> triggered tf.function retracing. Tracing is expensive and the excessive number of tracings could be due to (1) creating @tf.function repeatedly in a loop, (2) passing tensors with different shapes, (3) passing Python objects instead of tensors. For (1), please define your @tf.function outside of the loop. For (2), @tf.function has experimental_relax_shapes=True option that relaxes argument shapes that can avoid unnecessary retracing. For (3), please refer to https://www.tensorflow.org/tutorials/customization/performance#python_or_tensor_args and https://www.tensorflow.org/api_docs/python/tf/function for  more details.\n",
      "Epoch 1/10\n",
      "2500/2500 [==============================] - 2s 692us/step - loss: 71004.6875\n",
      "Epoch 2/10\n",
      "2500/2500 [==============================] - 2s 685us/step - loss: 817.7499\n",
      "Epoch 3/10\n",
      "2500/2500 [==============================] - 2s 686us/step - loss: 382.0423\n",
      "Epoch 4/10\n",
      "2500/2500 [==============================] - 2s 687us/step - loss: 425.5559\n",
      "Epoch 5/10\n",
      "2500/2500 [==============================] - 2s 695us/step - loss: 299.1979\n",
      "Epoch 6/10\n",
      "2500/2500 [==============================] - 2s 693us/step - loss: 340.1155\n",
      "Epoch 7/10\n",
      "2500/2500 [==============================] - 2s 694us/step - loss: 323.6547\n",
      "Epoch 8/10\n",
      "2500/2500 [==============================] - 2s 685us/step - loss: 256.0554\n",
      "Epoch 9/10\n",
      "2500/2500 [==============================] - 2s 686us/step - loss: 272.0424\n",
      "Epoch 10/10\n",
      "2500/2500 [==============================] - 2s 687us/step - loss: 176.1856\n",
      "WARNING:tensorflow:11 out of the last 11 calls to <function Model.make_predict_function.<locals>.predict_function at 0x00000154F9668F70> triggered tf.function retracing. Tracing is expensive and the excessive number of tracings could be due to (1) creating @tf.function repeatedly in a loop, (2) passing tensors with different shapes, (3) passing Python objects instead of tensors. For (1), please define your @tf.function outside of the loop. For (2), @tf.function has experimental_relax_shapes=True option that relaxes argument shapes that can avoid unnecessary retracing. For (3), please refer to https://www.tensorflow.org/tutorials/customization/performance#python_or_tensor_args and https://www.tensorflow.org/api_docs/python/tf/function for  more details.\n"
     ]
    },
    {
     "data": {
      "image/png": "[encoded data removed]",
      "text/plain": [
       "<Figure size 432x288 with 1 Axes>"
      ]
     },
     "metadata": {
      "needs_background": "light"
     },
     "output_type": "display_data"
    }
   ],
   "source": [
    "import tensorflow.keras as keras # use tensorflow 2.0\n",
    "from keras.models import Sequential\n",
    "from keras.layers import Dense, Dropout, Activation\n",
    "from keras.optimizers import SGD\n",
    "import numpy as np\n",
    "from matplotlib import pyplot as plt \n",
    "import tensorflow as tf\n",
    "\n",
    "def lin(x):\n",
    "    return x**3+2*x**2-3*x-1\n",
    "\n",
    "x_train = np.random.uniform(-15,15,size=80000)\n",
    "y_train = np.array([lin(x) for x in x_train])\n",
    "\n",
    "x_test = sorted(np.random.uniform(-15,15,size=20))\n",
    "y_test = np.array([lin(x) for x in x_test])\n",
    "\n",
    "\n",
    "model1 = tf.keras.models.Sequential()\n",
    "model1.add(Dense(100,input_shape=(1,)))\n",
    "model1.add(Activation('relu'))\n",
    "model1.add(Dense(1))\n",
    "\n",
    "\n",
    "model1.compile(loss='mse',optimizer=\"adam\")\n",
    "model1.fit(x_train, y_train, epochs=5)\n",
    "y_pred1=model1.predict(x_test)\n",
    "#score = model1.evaluate(x_test, y_test)\n",
    "#print(\"loss1 :\",score)\n",
    "\n",
    "model2 = tf.keras.models.Sequential()\n",
    "model2.add(Dense(50,input_shape=(1,)))\n",
    "model2.add(Activation('relu'))\n",
    "model2.add(Dense(100))\n",
    "model2.add(Activation('relu'))\n",
    "model2.add(Dense(200))\n",
    "model2.add(Activation('relu'))\n",
    "model2.add(Dense(150))\n",
    "model2.add(Activation('relu'))\n",
    "model2.add(Dense(50))\n",
    "model2.add(Activation('relu'))\n",
    "model2.add(Dense(1))\n",
    "\n",
    "\n",
    "model2.compile(loss='mse',optimizer=\"adam\")\n",
    "model2.fit(x_train, y_train, epochs=10)\n",
    "y_pred2=model2.predict(sorted(x_test))\n",
    "#score2 = model2.evaluate(x_test, y_test)\n",
    "#print(\"loss2 :\",score2)\n",
    "\n",
    "plt.plot(x_test,y_pred1,marker='o') \n",
    "plt.plot(x_test,y_pred2,marker='^') \n",
    "plt.plot(x_test,y_test,marker='.') \n",
    "plt.show()\n"
   ]
  },
  {
   "cell_type": "code",
   "execution_count": null,
   "metadata": {},
   "outputs": [],
   "source": []
  }
 ],
 "metadata": {
  "kernelspec": {
   "display_name": "Python 3",
   "language": "python",
   "name": "python3"
  },
  "language_info": {
   "codemirror_mode": {
    "name": "ipython",
    "version": 3
   },
   "file_extension": ".py",
   "mimetype": "text/x-python",
   "name": "python",
   "nbconvert_exporter": "python",
   "pygments_lexer": "ipython3",
   "version": "3.8.3"
  }
 },
 "nbformat": 4,
 "nbformat_minor": 4
}