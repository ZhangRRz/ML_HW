{
 "metadata": {
  "language_info": {
   "codemirror_mode": {
    "name": "ipython",
    "version": 3
   },
   "file_extension": ".py",
   "mimetype": "text/x-python",
   "name": "python",
   "nbconvert_exporter": "python",
   "pygments_lexer": "ipython3",
   "version": "3.8.3-final"
  },
  "orig_nbformat": 2,
  "kernelspec": {
   "name": "Python 3.8.3 32-bit",
   "display_name": "Python 3.8.3 32-bit",
   "metadata": {
    "interpreter": {
     "hash": "4eaf1be304415beee96765ae99c3f893cc8312c7f1196698e6029668e9aeb3e5"
    }
   }
  }
 },
 "nbformat": 4,
 "nbformat_minor": 2,
 "cells": [
  {
   "cell_type": "code",
   "execution_count": 1,
   "metadata": {},
   "outputs": [],
   "source": [
    "import matplotlib.pyplot as plt\n",
    "import numpy as np\n",
    "import pandas as pd\n",
    "from pandas.api.types import is_string_dtype\n",
    "from pandas.api.types import is_numeric_dtype\n",
    "from sklearn import preprocessing\n",
    "from sklearn.model_selection import train_test_split\n",
    "from sklearn import linear_model\n",
    "from sklearn.svm import SVC\n",
    "\n",
    "# here is read data, fillna and one-hot coding\n",
    "hw5_data = pd.read_csv(\"hr-analytics.csv\", sep=\",\")\n",
    "count = 0\n",
    "X = pd.read_csv(\"hr-analytics.csv\", sep=\",\")\n",
    "\n",
    "for i in hw5_data.columns:\n",
    "\n",
    "    if (is_numeric_dtype(hw5_data[i]) == False):\n",
    "        X = X.drop([i], axis=1)\n",
    "        df = pd.get_dummies(hw5_data[i])\n",
    "        X = pd.concat([X, df], axis=1)\n",
    "    else:\n",
    "        hw5_data[i] = hw5_data[i].fillna(hw5_data[i].mean(skipna=True))\n",
    "        if(i != \"left\"):\n",
    "            X[i] = X[i].fillna(\n",
    "                X[i].mean(skipna=True))\n",
    "\n",
    "Y = pd.DataFrame(hw5_data['left'])\n",
    "\n",
    "X_train, X_test, y_train, y_test = train_test_split(\n",
    "    X.drop(['left'], axis=1), Y, test_size=0.3, random_state=1)\n"
   ]
  },
  {
   "cell_type": "code",
   "execution_count": 2,
   "metadata": {},
   "outputs": [
    {
     "output_type": "stream",
     "name": "stdout",
     "text": [
      "Accuracy of logistic regression is: 0.7915555555555556\n"
     ]
    }
   ],
   "source": [
    "log_reg = linear_model.LogisticRegression()\n",
    "log_reg.fit(X_train, np.array(y_train))\n",
    "y_pred = log_reg.predict(X_test)\n",
    "c = 0\n",
    "for i, j in zip(y_pred, np.array(y_test['left'])):\n",
    "    if i == j:\n",
    "        c += 1\n",
    "print('Accuracy of logistic regression is:', c/len(y_test))"
   ]
  },
  {
   "cell_type": "code",
   "execution_count": 3,
   "metadata": {},
   "outputs": [
    {
     "output_type": "stream",
     "name": "stdout",
     "text": [
      "Accuracy of SVM is: 0.7682222222222223\n"
     ]
    }
   ],
   "source": [
    "svm_module = SVC()\n",
    "svm_module.fit(X_train, np.array(y_train))\n",
    "svm_y_pred = svm_module.predict(X_test)\n",
    "\n",
    "\n",
    "c = 0\n",
    "for i, j in zip(svm_y_pred, np.array(y_test['left'])):\n",
    "    if i == j:\n",
    "        c += 1\n",
    "print('Accuracy of SVM is:', c/len(y_test))"
   ]
  },
  {
   "cell_type": "code",
   "execution_count": 4,
   "metadata": {},
   "outputs": [
    {
     "output_type": "stream",
     "name": "stdout",
     "text": [
      "Accuracy of SVM after Standardlization is: 0.9435555555555556\nit seems that Standardlizing X gave great effection to the Accuracy.\n"
     ]
    }
   ],
   "source": [
    "scaler = preprocessing.StandardScaler()\n",
    "scaler.fit(X_train)\n",
    "stand = svm_module.fit(scaler.transform(X_train), np.asarray(y_train))\n",
    "s_pred = stand.predict(scaler.transform(X_test))\n",
    "\n",
    "\n",
    "c = 0\n",
    "for i, j in zip(s_pred, np.array(y_test['left'])):\n",
    "    if i == j:\n",
    "        c += 1\n",
    "print('Accuracy of SVM after Standardlization is:', c / len(y_test))\n",
    "print('it seems that Standardlizing X gave great effection to the Accuracy.')\n"
   ]
  }
 ]
}